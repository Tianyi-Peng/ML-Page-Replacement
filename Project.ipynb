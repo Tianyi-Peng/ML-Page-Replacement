{
 "cells": [
  {
   "cell_type": "code",
   "execution_count": 1,
   "metadata": {},
   "outputs": [],
   "source": [
    "import numpy as np\n",
    "import math\n",
    "page_accesses = open(r\"acroread_trace.100000000\",\"r\")\n",
    "\n",
    "accesses = []\n",
    "rw = []\n",
    "for access in page_accesses:\n",
    "    s = access.split()\n",
    "    accesses.append(s[3])\n",
    "    rw.append(s[2])\n",
    "page_accesses.close()"
   ]
  },
  {
   "cell_type": "code",
   "execution_count": 2,
   "metadata": {},
   "outputs": [
    {
     "name": "stdout",
     "output_type": "stream",
     "text": [
      "818\n"
     ]
    }
   ],
   "source": [
    "training = accesses[:math.floor(0.7*len(accesses))] # 0.6 of the data set is the training set \n",
    "# verifying = accesses[math.floor(0.6*len(accesses)):math.floor(0.9*len(accesses))]\n",
    "testing = accesses[math.floor(0.7*len(accesses)):]\n",
    "print(len(np.unique(training))) # There are 818 unique addresses\n",
    "\n",
    "size = 64 # Number of page frames"
   ]
  },
  {
   "cell_type": "code",
   "execution_count": 4,
   "metadata": {},
   "outputs": [],
   "source": [
    "# training = [\"c\", \"a\", \"d\", \"b\", \"e\", \"b\", \"a\", \"b\", \"c\", \"d\"]\n",
    "# size = 4\n",
    "\n",
    "# Not actually FIFO\n",
    "# faults_fifo = 0\n",
    "# fifo_frames = []\n",
    "# for p in training: # The first <size> accesses will not fault\n",
    "#     if p not in fifo_frames:\n",
    "#         if len(fifo_frames) >= size: \n",
    "#             faults_fifo += 1\n",
    "#             fifo_frames.pop(0)\n",
    "#         fifo_frames.append(p)\n",
    "# print(faults_fifo) # Number of faults\n",
    "# print(100*faults_fifo/len(training)) # Percent of all accesses that resulted in a fault"
   ]
  },
  {
   "cell_type": "code",
   "execution_count": 62,
   "metadata": {},
   "outputs": [
    {
     "name": "stdout",
     "output_type": "stream",
     "text": [
      "34245\n",
      "1.3592424917183255\n"
     ]
    }
   ],
   "source": [
    "# Clairvoyant (may be slightly inaccurate for accesses near the end)\n",
    "faults_cv = 0\n",
    "cv_frames = []\n",
    "for i in range(len(testing)): \n",
    "    p = testing[i]\n",
    "    if p not in cv_frames:\n",
    "        if len(cv_frames) >= size: \n",
    "            faults_cv += 1\n",
    "            missing = cv_frames.copy()\n",
    "            for j in range(i, len(training)):\n",
    "                if len(missing) <= 1:\n",
    "                    break\n",
    "                if training[j] in missing: # Or accesses[j]\n",
    "                    missing.remove(training[j])\n",
    "            \n",
    "            cv_frames.remove(missing[0])\n",
    "        cv_frames.append(p)\n",
    "print(faults_cv) \n",
    "print(100*faults_cv/len(testing))\n",
    "\n",
    "# 34245\n",
    "# 1.3592424917183255"
   ]
  },
  {
   "cell_type": "code",
   "execution_count": 63,
   "metadata": {},
   "outputs": [
    {
     "name": "stdout",
     "output_type": "stream",
     "text": [
      "91888\n",
      "3.647191533917754\n"
     ]
    }
   ],
   "source": [
    "# FIFO\n",
    "faults_fifo = 0\n",
    "fifo_frames = []\n",
    "pointer = 0\n",
    "for p in training: # The first <size> accesses will not fault\n",
    "    if p not in fifo_frames:\n",
    "        if len(fifo_frames) >= size: \n",
    "            faults_fifo += 1\n",
    "            fifo_frames.pop(pointer)\n",
    "        fifo_frames.insert(pointer, p)\n",
    "        pointer = (pointer + 1) % size\n",
    "print(faults_fifo) # Number of faults\n",
    "print(100*faults_fifo/len(training)) # Percent of all accesses that resulted in a fault\n",
    "\n",
    "# 91888\n",
    "# 3.647191533917754"
   ]
  },
  {
   "cell_type": "code",
   "execution_count": 6,
   "metadata": {},
   "outputs": [
    {
     "name": "stdout",
     "output_type": "stream",
     "text": [
      "71014\n",
      "2.8186668508361854\n"
     ]
    }
   ],
   "source": [
    "# LRU\n",
    "faults_lru = 0\n",
    "lru_frames = []\n",
    "lru_stack = []\n",
    "for p in testing: \n",
    "    if p not in lru_frames:\n",
    "        if len(lru_frames) >= size: \n",
    "            faults_lru += 1\n",
    "            lru_frames.remove(lru_stack[-1])\n",
    "            lru_stack.pop(-1)\n",
    "        lru_frames.append(p)\n",
    "    if p in lru_stack: \n",
    "        lru_stack.remove(p)\n",
    "    lru_stack.insert(0, p)\n",
    "print(faults_lru) # Number of faults\n",
    "print(100*faults_lru/len(testing)) # Percent of all accesses that resulted in a fault\n",
    "# 71014\n",
    "# 2.8186668508361854"
   ]
  },
  {
   "cell_type": "code",
   "execution_count": 66,
   "metadata": {},
   "outputs": [
    {
     "name": "stdout",
     "output_type": "stream",
     "text": [
      "73060\n",
      "2.8998760824920677\n"
     ]
    }
   ],
   "source": [
    "# One-handed clock\n",
    "faults_c1 = 0\n",
    "c1_frames = []\n",
    "c1_clock = [] # [used, dirty]\n",
    "for i in range(size):\n",
    "    c1_clock.append([0, 0])\n",
    "c1_pointer = 0\n",
    "for p in testing:\n",
    "    if p not in c1_frames:\n",
    "        while True:\n",
    "            if c1_clock[c1_pointer][0] == 0:\n",
    "                if len(c1_frames) >= size: \n",
    "                    faults_c1 += 1\n",
    "                    c1_frames.pop(c1_pointer)\n",
    "                c1_frames.insert(c1_pointer, p)\n",
    "                c1_clock[c1_pointer][0] = 1\n",
    "                break; \n",
    "            else:\n",
    "                c1_clock[c1_pointer][0] = 0\n",
    "            c1_pointer = (c1_pointer + 1) % size\n",
    "    else:\n",
    "        c1_clock[c1_frames.index(p)][0] = 1\n",
    "print(faults_c1) \n",
    "print(100*faults_c1/len(testing))\n",
    "\n",
    "# 73060\n",
    "# 2.8998760824920677"
   ]
  },
  {
   "cell_type": "code",
   "execution_count": 64,
   "metadata": {},
   "outputs": [
    {
     "name": "stdout",
     "output_type": "stream",
     "text": [
      "72820\n",
      "2.890350072913665\n"
     ]
    }
   ],
   "source": [
    "# Second Chance (Two-handed clock) (With read/write)\n",
    "faults_c2 = 0\n",
    "c2_frames = []\n",
    "c2_clock = [] # [used, dirty]\n",
    "for i in range(size):\n",
    "    c2_clock.append([0, 0])\n",
    "c2_pointer = 0\n",
    "for i in range(len(testing)): \n",
    "    p = testing[i]\n",
    "    if p not in c2_frames:\n",
    "        while True:\n",
    "            if (c2_clock[c2_pointer][0] == 0) and (c2_clock[c2_pointer][1] == 0):\n",
    "                if len(c2_frames) >= size: \n",
    "                    faults_c2 += 1\n",
    "                    c2_frames.pop(c2_pointer)\n",
    "                c2_frames.insert(c2_pointer, p)\n",
    "                c2_clock[c2_pointer][0] = 1\n",
    "                c2_clock[c2_pointer][1] = 1 if (rw[j] == \"W\") else 0\n",
    "                break; \n",
    "            else:\n",
    "                if c2_clock[c2_pointer][0] == 0:\n",
    "                    c2_clock[c2_pointer][1] = 0\n",
    "                c2_clock[c2_pointer][0] = 0                \n",
    "            c2_pointer = (c2_pointer + 1) % size\n",
    "    else:\n",
    "        j = c2_frames.index(p)\n",
    "        c2_clock[j][0] = 1\n",
    "        c2_clock[j][1] = 1 if (rw[i] == \"W\") else 0\n",
    "print(faults_c2) \n",
    "print(100*faults_c2/len(testing))\n",
    "\n",
    "# 72820\n",
    "# 2.890350072913665"
   ]
  },
  {
   "cell_type": "code",
   "execution_count": 12,
   "metadata": {},
   "outputs": [
    {
     "name": "stdout",
     "output_type": "stream",
     "text": [
      "604907\n",
      "24.009791150178334\n"
     ]
    }
   ],
   "source": [
    "# LFU (ideal)\n",
    "faults_lfu = 0\n",
    "lfu_frames = []\n",
    "lfu_count = {}\n",
    "for p in testing: \n",
    "    if p not in lfu_frames:\n",
    "        if len(lfu_frames) >= size: \n",
    "            faults_lfu += 1\n",
    "            # lfu_frames.remove(min(lfu_count, key=lfu_count.get))\n",
    "            minimum = lfu_count.get(lfu_frames[0])\n",
    "            value = lfu_frames[0]\n",
    "            # We can't just keep track of the minimum value overall because the page with \n",
    "            # the absolute minimum value may not be in the page frames\n",
    "            for frame in lfu_frames:                \n",
    "                if minimum > lfu_count.get(frame): \n",
    "                    minimum = lfu_count.get(frame)\n",
    "                    value = frame\n",
    "            lfu_frames.remove(value)\n",
    "        lfu_frames.append(p)\n",
    "    lfu_count.update({p: lfu_count.setdefault(p, 0) + 1})\n",
    "print(faults_lfu) \n",
    "print(100*faults_lfu/len(testing))\n",
    "\n",
    "# 604907\n",
    "# 24.009791150178334"
   ]
  },
  {
   "cell_type": "code",
   "execution_count": 22,
   "metadata": {},
   "outputs": [
    {
     "name": "stdout",
     "output_type": "stream",
     "text": [
      "91888\n",
      "3.647191533917754\n"
     ]
    }
   ],
   "source": [
    "# Custom: Decaying Least Frequently Used\n",
    "faults_dlfu = 0\n",
    "dlfu_frames = []\n",
    "dlfu_count = {}\n",
    "for p in testing: \n",
    "    if p not in dlfu_frames:\n",
    "        if len(dlfu_frames) >= size: \n",
    "            faults_dlfu += 1\n",
    "            minimum = dlfu_count.get(dlfu_frames[0])\n",
    "            value = dlfu_frames[0]\n",
    "            for frame in dlfu_frames:                \n",
    "                if minimum > dlfu_count.get(frame): \n",
    "                    minimum = dlfu_count.get(frame)\n",
    "                    value = frame\n",
    "            dlfu_frames.remove(value)\n",
    "        dlfu_frames.append(p)\n",
    "    dlfu_count.update({p: 1})\n",
    "print(faults_dlfu) \n",
    "print(100*faults_dlfu/len(testing))\n",
    "\n",
    "# 0.1*a*lfu_count.setdefault(p, 0) + 1\n",
    "# a = -10 to 10\n",
    "# 582188\n",
    "# 23.108035268462796\n",
    "# 1576052\n",
    "# 62.55619353358593\n",
    "# 1415281\n",
    "# 56.17491817554689\n",
    "# 1241986\n",
    "# 49.296543884341546\n",
    "# 771477\n",
    "# 30.621238714655526\n",
    "# 995762\n",
    "# 39.52349312420567\n",
    "# 930801\n",
    "# 36.945080173278114\n",
    "# 484629\n",
    "# 19.235752066548702\n",
    "# 831424\n",
    "# 33.00063744880762\n",
    "# 374698\n",
    "# 14.872403070867954\n",
    "# 91888\n",
    "# 3.647191533917754\n",
    "# 95983\n",
    "# 3.8097290723492487\n",
    "# 97275\n",
    "# 3.8610107572463166\n",
    "# 98819\n",
    "# 3.9222947522007066\n",
    "# 100561\n",
    "# 3.991437705057279\n",
    "# 103573\n",
    "# 4.110989125266232\n",
    "# 106864\n",
    "# 4.241614531610078\n",
    "# 112975\n",
    "# 4.4841705505001554\n",
    "# 122731\n",
    "# 4.871402839862222\n",
    "# 149158\n",
    "# 5.920335569564082\n",
    "# 604907\n",
    "# 24.009791150178334"
   ]
  },
  {
   "cell_type": "code",
   "execution_count": 16,
   "metadata": {},
   "outputs": [],
   "source": [
    "index_to_page = np.unique(training)\n",
    "page_to_index = {}\n",
    "for i in range(len(index_to_page)):\n",
    "    page_to_index.update({index_to_page[i] : i})\n",
    "\n",
    "recent_index = []\n",
    "for i in range(len(index_to_page)):\n",
    "    recent_index.append(len(training))\n",
    "\n",
    "pick_highest = []\n",
    "index = len(training) - 1\n",
    "for p in reversed(training):\n",
    "    recent_index[page_to_index.get(p)] = index\n",
    "    pick_highest.append(recent_index.copy())\n",
    "    index -= 1"
   ]
  },
  {
   "cell_type": "code",
   "execution_count": 17,
   "metadata": {},
   "outputs": [],
   "source": [
    "# Given an array of past accesses, what will be the (# of page frames)th page called in the future? \n",
    "# Inputs: Array of the last x page accesses\n",
    "# Label: The page in the current page table that will be accessed furthest in the future\n",
    "# Test for thrashing? Include R/W?\n",
    "\n",
    "trainData = []\n",
    "trainLabel = []\n",
    "\n",
    "# TLB cache size\n",
    "past_array = [] # Number of page frames (64) long\n",
    "past_size = 16 # We take the rightmost accesses of past_array\n",
    "\n",
    "for i in range(len(training) - size): \n",
    "    past_array = training[i : i + size]\n",
    "    m = -1\n",
    "    mi = -1\n",
    "    for j in past_array[size - past_size:]: \n",
    "        trainData.append(page_to_index.get(j))\n",
    "        if m < pick_highest[len(training) - i - 1][page_to_index.get(j)]:\n",
    "            m = pick_highest[len(training) - i - 1][page_to_index.get(j)]\n",
    "            mi = page_to_index.get(j)\n",
    "    trainLabel.append(mi) \n",
    "# If there's a page that's in the cache but not in the past_array, remove that first\n",
    "\n",
    "# Note: We should try finding mi over all of past_array, since those would include more of the pages in cache \n",
    "# (while not contain any pages not in the cache)"
   ]
  },
  {
   "cell_type": "code",
   "execution_count": 18,
   "metadata": {},
   "outputs": [],
   "source": [
    "trainData = np.reshape(np.asarray(trainData[:len(trainData)-size]), (-1, past_size))\n",
    "# Linear regression based on the a*past_array --> id of the page in the cache that's removed"
   ]
  },
  {
   "cell_type": "code",
   "execution_count": 19,
   "metadata": {},
   "outputs": [],
   "source": [
    "def linear_regression_ridge(X, Y, lamb):\n",
    "    N = len(Y)\n",
    "    X1 = np.hstack((np.ones((N,1)),X))\n",
    "    trans = np.dot(X1.transpose(),X1)\n",
    "    # diag = np.diag(np.full(trans.shape[0],lamb))\n",
    "    # diag[0][0] = 0\n",
    "    for i in range(1, trans.shape[0]):\n",
    "        trans[i][i] += lamb \n",
    "    betas = np.dot(np.linalg.inv(trans), np.dot(X1.transpose(),Y)) \n",
    "    return betas"
   ]
  },
  {
   "cell_type": "code",
   "execution_count": 20,
   "metadata": {},
   "outputs": [
    {
     "name": "stdout",
     "output_type": "stream",
     "text": [
      "[array([ 4.96368853e+01, -4.58031081e-03, -1.25909279e-03, -5.01952943e-04,\n",
      "        2.61980997e-02,  3.30231359e-02,  3.53970029e-02,  4.14137673e-02,\n",
      "        3.86820554e-02,  5.83073364e-02,  7.17120261e-02,  7.22937465e-02,\n",
      "        7.78366009e-02,  6.78167121e-02,  1.01691993e-01,  1.33621948e-01,\n",
      "        2.23922676e-01]), array([ 4.96368853e+01, -4.58031081e-03, -1.25909279e-03, -5.01952943e-04,\n",
      "        2.61980997e-02,  3.30231359e-02,  3.53970029e-02,  4.14137673e-02,\n",
      "        3.86820554e-02,  5.83073364e-02,  7.17120261e-02,  7.22937465e-02,\n",
      "        7.78366009e-02,  6.78167121e-02,  1.01691993e-01,  1.33621948e-01,\n",
      "        2.23922676e-01]), array([ 4.96368853e+01, -4.58031080e-03, -1.25909279e-03, -5.01952940e-04,\n",
      "        2.61980997e-02,  3.30231359e-02,  3.53970029e-02,  4.14137673e-02,\n",
      "        3.86820554e-02,  5.83073364e-02,  7.17120261e-02,  7.22937465e-02,\n",
      "        7.78366009e-02,  6.78167121e-02,  1.01691993e-01,  1.33621948e-01,\n",
      "        2.23922676e-01]), array([ 4.96368861e+01, -4.58031057e-03, -1.25909254e-03, -5.01952651e-04,\n",
      "        2.61980996e-02,  3.30231358e-02,  3.53970029e-02,  4.14137673e-02,\n",
      "        3.86820554e-02,  5.83073363e-02,  7.17120259e-02,  7.22937464e-02,\n",
      "        7.78366008e-02,  6.78167123e-02,  1.01691992e-01,  1.33621948e-01,\n",
      "        2.23922674e-01])]\n"
     ]
    }
   ],
   "source": [
    "betasList = []\n",
    "lambdas = [0.001, 0.1, 10, 1000]\n",
    "for l in lambdas: \n",
    "    betasList.append(linear_regression_ridge(trainData, trainLabel[:len(trainData)], l))\n",
    "print(betasList)"
   ]
  },
  {
   "cell_type": "code",
   "execution_count": 21,
   "metadata": {},
   "outputs": [
    {
     "name": "stdout",
     "output_type": "stream",
     "text": [
      "45165\n",
      "3.5853518550712904\n",
      "2856\n",
      "0.22671902796598262\n",
      "\n",
      "45165\n",
      "3.5853518550712904\n",
      "2856\n",
      "0.22671902796598262\n",
      "\n",
      "45165\n",
      "3.5853518550712904\n",
      "2856\n",
      "0.22671902796598262\n",
      "\n",
      "45165\n",
      "3.5853518550712904\n",
      "2856\n",
      "0.22671902796598262\n",
      "\n"
     ]
    }
   ],
   "source": [
    "# ML\n",
    "# If there's a page that's in the cache but not in the past_array, remove that first\n",
    "for betas in betasList: \n",
    "    faults_ML = 0\n",
    "    faults_ML2 = 0\n",
    "    ML_frames = []\n",
    "    prev = []\n",
    "    for p in testing: \n",
    "        if p not in ML_frames: \n",
    "            if len(ML_frames) >= size: \n",
    "                faults_ML += 1\n",
    "                removal_index = betas[0]\n",
    "                for i in range(len(prev)):\n",
    "                    removal_index += betas[i + 1] * page_to_index.get(prev[i])\n",
    "                if index_to_page[math.floor(removal_index)] not in ML_frames: \n",
    "                    for j in ML_frames: \n",
    "                        if j not in prev: \n",
    "                            ML_frames.remove(j)\n",
    "                            break; \n",
    "                    # Default to LRU? (Clairvoyant misses)\n",
    "                else: \n",
    "                    faults_ML2 += 1\n",
    "                    ML_frames.remove(index_to_page[math.floor(removal_index)])\n",
    "            ML_frames.append(p)\n",
    "        if len(prev) >= past_size: \n",
    "            prev.pop(0)\n",
    "        prev.append(p)\n",
    "    print(faults_ML)\n",
    "    print(100*faults_ML/len(testing)) \n",
    "    print(faults_ML2)\n",
    "    print(100*faults_ML2/len(testing)) \n",
    "    print()\n",
    "\n",
    "# 16 --> 3.599%\n",
    "# 90699\n",
    "# 3.5999980947980843\n",
    "# 5745\n",
    "# 0.22802885428301298\n",
    "\n",
    "# 32 --> 3.607%\n",
    "#90877\n",
    "#3.607063218568733\n",
    "#7009\n",
    "#0.27819917139593353"
   ]
  },
  {
   "cell_type": "code",
   "execution_count": 22,
   "metadata": {},
   "outputs": [
    {
     "name": "stdout",
     "output_type": "stream",
     "text": [
      "35941\n",
      "2.8531192521447415\n",
      "1947\n",
      "0.1545595054095827\n",
      "\n",
      "35941\n",
      "2.8531192521447415\n",
      "1947\n",
      "0.1545595054095827\n",
      "\n",
      "35941\n",
      "2.8531192521447415\n",
      "1947\n",
      "0.1545595054095827\n",
      "\n",
      "35941\n",
      "2.8531192521447415\n",
      "1947\n",
      "0.1545595054095827\n",
      "\n"
     ]
    }
   ],
   "source": [
    "for betas in betasList: \n",
    "    faults_ML2 = 0\n",
    "    faults_ML2_1 = 0\n",
    "    ML2_frames = []\n",
    "    prev = []\n",
    "    ML2_stack = []\n",
    "    for p in testing: \n",
    "        if p not in ML2_frames: \n",
    "            if len(ML2_frames) >= size: \n",
    "                faults_ML2 += 1\n",
    "                removal_index = betas[0]\n",
    "                for i in range(len(prev)):\n",
    "                    removal_index += betas[i + 1] * page_to_index.get(prev[i])\n",
    "                if index_to_page[math.floor(removal_index)] not in ML2_frames: \n",
    "                    ML2_frames.remove(ML2_stack[-1])\n",
    "                    ML2_stack.pop(-1)\n",
    "                else: \n",
    "                    faults_ML2_1 += 1\n",
    "                    ML2_frames.remove(index_to_page[math.floor(removal_index)])\n",
    "                    ML2_stack.remove(index_to_page[math.floor(removal_index)])\n",
    "            ML2_frames.append(p)\n",
    "        if len(prev) >= past_size: \n",
    "            prev.pop(0)\n",
    "        prev.append(p)\n",
    "        if p in ML2_stack: \n",
    "            ML2_stack.remove(p)\n",
    "        ML2_stack.insert(0, p)\n",
    "    print(faults_ML2)\n",
    "    print(100*faults_ML2/len(testing)) \n",
    "    print(faults_ML2_1)\n",
    "    print(100*faults_ML2_1/len(testing)) \n",
    "    print()\n",
    "# 71929\n",
    "# 2.8549847623538454"
   ]
  },
  {
   "cell_type": "code",
   "execution_count": 23,
   "metadata": {},
   "outputs": [],
   "source": [
    "# Modified LRU\n",
    "trainData = []\n",
    "trainLabel = []\n",
    "\n",
    "lruML_frames = []\n",
    "lruML_stack = []\n",
    "iterator = 0\n",
    "for p in training:    \n",
    "    if len(lruML_stack) >= size: \n",
    "        m = -1\n",
    "        mi = -1\n",
    "        for j in lruML_stack: \n",
    "            trainData.append(page_to_index.get(j))\n",
    "            if m < pick_highest[iterator][page_to_index.get(j)]:\n",
    "                m = pick_highest[iterator][page_to_index.get(j)]\n",
    "                mi = page_to_index.get(j)\n",
    "        trainLabel.append(mi)\n",
    "    iterator += 1\n",
    "    \n",
    "    if p not in lruML_frames:\n",
    "        if len(lruML_frames) >= size: \n",
    "            lruML_frames.remove(lruML_stack[-1])\n",
    "            lruML_stack.pop(-1)\n",
    "        lruML_frames.append(p)\n",
    "    if p in lruML_stack: \n",
    "        lruML_stack.remove(p)\n",
    "    lruML_stack.insert(0, p)\n",
    "     \n",
    "# Stack --> Clairvoyant replacement\n",
    "# LFU counts --> Clairvoyant replacement"
   ]
  },
  {
   "cell_type": "code",
   "execution_count": 24,
   "metadata": {},
   "outputs": [],
   "source": [
    "trainData = np.reshape(np.asarray(trainData[:len(trainData)-size]), (-1, size))\n",
    "betasList = []\n",
    "lambdas = [0.001, 0.1, 10, 1000]\n",
    "for l in lambdas: \n",
    "    betasList.append(linear_regression_ridge(trainData, trainLabel[:len(trainData)], l))"
   ]
  },
  {
   "cell_type": "code",
   "execution_count": 25,
   "metadata": {},
   "outputs": [
    {
     "name": "stdout",
     "output_type": "stream",
     "text": [
      "36296\n",
      "2.8813003638141823\n",
      "3346\n",
      "0.2656169004111267\n",
      "\n",
      "36296\n",
      "2.8813003638141823\n",
      "3346\n",
      "0.2656169004111267\n",
      "\n",
      "36296\n",
      "2.8813003638141823\n",
      "3346\n",
      "0.2656169004111267\n",
      "\n",
      "36296\n",
      "2.8813003638141823\n",
      "3346\n",
      "0.2656169004111267\n",
      "\n"
     ]
    }
   ],
   "source": [
    "for betas in betasList: \n",
    "    faultsML_lru = 0\n",
    "    faultsML_lru2 = 0\n",
    "    lruML_frames = []\n",
    "    lruML_stack = []\n",
    "    for p in testing: \n",
    "        if p not in lruML_frames:\n",
    "            if len(lruML_frames) >= size: \n",
    "                faultsML_lru += 1\n",
    "\n",
    "                removal_index = betas[0]\n",
    "                for i in range(len(lruML_stack)):\n",
    "                    removal_index += betas[i + 1] * page_to_index.get(lruML_stack[i])\n",
    "                removal_index = math.floor(removal_index)\n",
    "                if removal_index >= len(index_to_page) or index_to_page[removal_index] not in lruML_frames: \n",
    "                    lruML_frames.remove(lruML_stack[-1])\n",
    "                    lruML_stack.pop(-1) \n",
    "                else: \n",
    "                    faultsML_lru2 += 1\n",
    "                    lruML_frames.remove(index_to_page[removal_index])\n",
    "                    lruML_stack.remove(index_to_page[removal_index])\n",
    "\n",
    "            lruML_frames.append(p)\n",
    "        if p in lruML_stack: \n",
    "            lruML_stack.remove(p)\n",
    "        lruML_stack.insert(0, p)\n",
    "\n",
    "    print(faultsML_lru) \n",
    "    print(100*faultsML_lru/len(testing))\n",
    "    print(faultsML_lru2) \n",
    "    print(100*faultsML_lru2/len(testing))\n",
    "    print()\n",
    "\n",
    "# 72760\n",
    "# 2.8879685705190643\n",
    "# 7044\n",
    "# 0.2795883811261172"
   ]
  },
  {
   "cell_type": "code",
   "execution_count": null,
   "metadata": {},
   "outputs": [],
   "source": [
    "######################\n",
    "#  Scratch programs  #\n",
    "######################\n",
    "# They're not bad though in terms of performance"
   ]
  },
  {
   "cell_type": "code",
   "execution_count": 23,
   "metadata": {},
   "outputs": [
    {
     "name": "stdout",
     "output_type": "stream",
     "text": [
      "72074\n",
      "2.8607400598074633\n"
     ]
    }
   ],
   "source": [
    "# LFU (decaying 2)\n",
    "faults_lfu = 0\n",
    "lfu_frames = []\n",
    "lfu_count = {}\n",
    "for p in training: \n",
    "    if p not in lfu_frames:\n",
    "        if len(lfu_frames) >= size: \n",
    "            faults_lfu += 1\n",
    "            # lfu_frames.remove(min(lfu_count, key=lfu_count.get))\n",
    "            minimum = lfu_count.get(lfu_frames[0])\n",
    "            value = lfu_frames[0]\n",
    "            # We can't just keep track of the minimum value overall because the page with \n",
    "            # the absolute minimum value may not be in the page frames\n",
    "            for frame in lfu_frames:                \n",
    "                if minimum > lfu_count.get(frame): \n",
    "                    minimum = lfu_count.get(frame)\n",
    "                    value = frame\n",
    "            lfu_frames.remove(value)\n",
    "        lfu_frames.append(p)\n",
    "    for k in lfu_count.keys(): \n",
    "        lfu_count.update({k : lfu_count.get(k) * 0.5})\n",
    "    lfu_count.update({p: lfu_count.setdefault(p, 0) + 1})\n",
    "print(faults_lfu) \n",
    "print(100*faults_lfu/len(training))\n",
    "\n",
    "# 72074\n",
    "# 2.8607400598074633"
   ]
  },
  {
   "cell_type": "code",
   "execution_count": 24,
   "metadata": {},
   "outputs": [
    {
     "name": "stdout",
     "output_type": "stream",
     "text": [
      "93024\n",
      "3.6922813125888596\n"
     ]
    }
   ],
   "source": [
    "# LFU (decaying 3)\n",
    "faults_lfu = 0\n",
    "lfu_frames = []\n",
    "lfu_count = {}\n",
    "for p in training: \n",
    "    if p not in lfu_frames:\n",
    "        if len(lfu_frames) >= size: \n",
    "            faults_lfu += 1\n",
    "            # lfu_frames.remove(min(lfu_count, key=lfu_count.get))\n",
    "            minimum = lfu_count.get(lfu_frames[0])\n",
    "            value = lfu_frames[0]\n",
    "            # We can't just keep track of the minimum value overall because the page with \n",
    "            # the absolute minimum value may not be in the page frames\n",
    "            for frame in lfu_frames:                \n",
    "                if minimum > lfu_count.get(frame): \n",
    "                    minimum = lfu_count.get(frame)\n",
    "                    value = frame\n",
    "            lfu_frames.remove(value)\n",
    "        lfu_frames.append(p)\n",
    "    for k in lfu_count.keys(): \n",
    "        lfu_count.update({k : max(0, lfu_count.get(k) - 1)})\n",
    "    lfu_count.update({p: lfu_count.setdefault(p, 0) + 1})\n",
    "print(faults_lfu) \n",
    "print(100*faults_lfu/len(training))\n",
    "# 93024\n",
    "# 3.6922813125888596"
   ]
  },
  {
   "cell_type": "code",
   "execution_count": null,
   "metadata": {},
   "outputs": [],
   "source": [
    "# Modified LFU\n",
    "# After a certain point, it will always recommend the same thing though\n",
    "lfu_frames = []\n",
    "lfu_count = {}\n",
    "iterator = 0\n",
    "for p in training: \n",
    "    if p not in lfu_frames:\n",
    "        if len(lfu_frames) >= size:             \n",
    "            minimum = lfu_count.get(lfu_frames[0])\n",
    "            value = lfu_frames[0]\n",
    "            for frame in lfu_frames:                \n",
    "                if minimum > lfu_count.get(frame): \n",
    "                    minimum = lfu_count.get(frame)\n",
    "                    value = frame\n",
    "            lfu_frames.remove(value)\n",
    "        lfu_frames.append(p)\n",
    "    lfu_count.update({p: lfu_count.setdefault(p, 0) + 1})\n",
    "    iterator += 1\n",
    "print(faults_lfu) \n",
    "print(100*faults_lfu/len(training))"
   ]
  }
 ],
 "metadata": {
  "kernelspec": {
   "display_name": "Python 3",
   "language": "python",
   "name": "python3"
  },
  "language_info": {
   "codemirror_mode": {
    "name": "ipython",
    "version": 3
   },
   "file_extension": ".py",
   "mimetype": "text/x-python",
   "name": "python",
   "nbconvert_exporter": "python",
   "pygments_lexer": "ipython3",
   "version": "3.8.5"
  }
 },
 "nbformat": 4,
 "nbformat_minor": 4
}
